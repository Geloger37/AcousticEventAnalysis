{
 "cells": [
  {
   "cell_type": "code",
   "execution_count": 1,
   "id": "f5df6dbd",
   "metadata": {
    "execution": {
     "iopub.execute_input": "2023-03-22T21:56:27.955428Z",
     "iopub.status.busy": "2023-03-22T21:56:27.955010Z",
     "iopub.status.idle": "2023-03-22T21:56:37.147072Z",
     "shell.execute_reply": "2023-03-22T21:56:37.146032Z"
    },
    "papermill": {
     "duration": 9.205463,
     "end_time": "2023-03-22T21:56:37.150158",
     "exception": false,
     "start_time": "2023-03-22T21:56:27.944695",
     "status": "completed"
    },
    "tags": []
   },
   "outputs": [],
   "source": [
    "import librosa\n",
    "from librosa.feature import melspectrogram\n",
    "from librosa.core import load\n",
    "from librosa.display import specshow\n",
    "from librosa import power_to_db\n",
    "import random\n",
    "\n",
    "import matplotlib.pyplot as plt"
   ]
  },
  {
   "cell_type": "code",
   "execution_count": 2,
   "id": "38222f05",
   "metadata": {
    "execution": {
     "iopub.execute_input": "2023-03-22T21:56:37.162530Z",
     "iopub.status.busy": "2023-03-22T21:56:37.161996Z",
     "iopub.status.idle": "2023-03-22T21:56:37.175356Z",
     "shell.execute_reply": "2023-03-22T21:56:37.174380Z"
    },
    "papermill": {
     "duration": 0.021784,
     "end_time": "2023-03-22T21:56:37.177472",
     "exception": false,
     "start_time": "2023-03-22T21:56:37.155688",
     "status": "completed"
    },
    "tags": []
   },
   "outputs": [],
   "source": [
    "import os\n",
    "from tqdm import tqdm\n",
    "import pickle\n",
    "import pandas as pd\n",
    "import numpy as np\n",
    "\n",
    "from librosa.feature import melspectrogram\n",
    "from librosa.core import load as load_wav\n",
    "from librosa import power_to_db\n",
    "\n",
    "\n",
    "def extract_log_mel_feats(set_type, path_to_csv, path_to_files, out_path, sr, fft_size, hop, n_mels):\n",
    "    \"\"\"\n",
    "    Extract features from given files and store them in binary format.\n",
    "\n",
    "    :param set_type:\n",
    "    :param path_to_csv: path to loaded csv\n",
    "    :param path_to_files: path to loaded data\n",
    "    :param out_path: path to store extracted features\n",
    "    :param sr: input files sample rate\n",
    "    :param fft_size: size of fft window\n",
    "    :param hop: hop size\n",
    "    :param n_mels: number of mel band\n",
    "\n",
    "    :return:\n",
    "\n",
    "    \"\"\"\n",
    "    set_type = set_type.lower()\n",
    "    if set_type not in ['train', 'test']:\n",
    "        raise Exception('Such set type not supported: {}'.format(set_type))\n",
    "\n",
    "    feats = []\n",
    "\n",
    "    if set_type == 'train':\n",
    "        meta = pd.read_csv(path_to_csv, skiprows=1, names=['fname', 'label', 'manually_verified'])\n",
    "\n",
    "        file_names = list(meta['fname'])\n",
    "        n_files = len(file_names)\n",
    "        labels = list(meta['label'])\n",
    "\n",
    "        uniq_labels = np.sort(np.unique(labels))\n",
    "        label_to_id = {label: i for i, label in enumerate(uniq_labels)}\n",
    "\n",
    "        print('Total files:', n_files)\n",
    "\n",
    "        for i, (file_name, label) in tqdm(enumerate(zip(file_names, labels))):\n",
    "            wav_data, sr = load_wav(os.path.join(path_to_files, file_name), sr=sr)\n",
    "            mel_spec = melspectrogram(y=wav_data, n_fft=fft_size, hop_length=hop, n_mels=n_mels, fmax=sr // 2)\n",
    "            log_mel_spec = power_to_db(mel_spec, ref=np.max)\n",
    "            feats.append({\n",
    "                'fname': file_name,\n",
    "                'feature': log_mel_spec,\n",
    "                'label_id': label_to_id[label]\n",
    "            })\n",
    "        pickle.dump(feats, open(out_path, 'wb'))    \n",
    "        return label_to_id\n",
    "    else:\n",
    "        for i, file_name in tqdm(enumerate(os.listdir(path_to_files))):\n",
    "            wav_data, sr = load_wav(os.path.join(path_to_files, file_name), sr=sr)\n",
    "            if len(wav_data) == 0:\n",
    "                # print('Empty file:', file_name)\n",
    "                wav_data = np.zeros(sr)\n",
    "            mel_spec = melspectrogram(wav_data, n_fft=fft_size, n_mels=n_mels, fmax=sr // 2)\n",
    "            log_mel_spec = power_to_db(mel_spec, ref=np.max)\n",
    "            feats.append({\n",
    "                'fname': file_name,\n",
    "                'feature': log_mel_spec,\n",
    "            })\n",
    "\n",
    "    pickle.dump(feats, open(out_path, 'wb'))"
   ]
  },
  {
   "cell_type": "code",
   "execution_count": 3,
   "id": "6b7c87be",
   "metadata": {
    "execution": {
     "iopub.execute_input": "2023-03-22T21:56:37.188914Z",
     "iopub.status.busy": "2023-03-22T21:56:37.188635Z",
     "iopub.status.idle": "2023-03-22T21:56:37.194064Z",
     "shell.execute_reply": "2023-03-22T21:56:37.193164Z"
    },
    "papermill": {
     "duration": 0.013555,
     "end_time": "2023-03-22T21:56:37.196149",
     "exception": false,
     "start_time": "2023-03-22T21:56:37.182594",
     "status": "completed"
    },
    "tags": []
   },
   "outputs": [],
   "source": [
    "# For kaggle\n",
    "# PATH = '/kaggle/input/audio-train-for-aed-lab/'\n",
    "PATH = ''"
   ]
  },
  {
   "cell_type": "code",
   "execution_count": 4,
   "id": "ee4f6b00",
   "metadata": {
    "execution": {
     "iopub.execute_input": "2023-03-22T21:56:37.209277Z",
     "iopub.status.busy": "2023-03-22T21:56:37.208169Z",
     "iopub.status.idle": "2023-03-22T21:56:37.217338Z",
     "shell.execute_reply": "2023-03-22T21:56:37.215220Z"
    },
    "papermill": {
     "duration": 0.019824,
     "end_time": "2023-03-22T21:56:37.221097",
     "exception": false,
     "start_time": "2023-03-22T21:56:37.201273",
     "status": "completed"
    },
    "tags": []
   },
   "outputs": [],
   "source": [
    "train_folder = PATH + 'train/'\n",
    "# train_folder = './data/audio_train/'\n",
    "# test_folder = './data/audio_test/'\n",
    "\n",
    "sample_rate = 11025\n",
    "fft_size = 1024\n",
    "overlap = 4\n",
    "hop = fft_size // overlap\n",
    "mels = 64"
   ]
  },
  {
   "cell_type": "code",
   "execution_count": 5,
   "id": "ab82142d",
   "metadata": {
    "execution": {
     "iopub.execute_input": "2023-03-22T21:56:37.243797Z",
     "iopub.status.busy": "2023-03-22T21:56:37.243310Z",
     "iopub.status.idle": "2023-03-22T21:56:38.775197Z",
     "shell.execute_reply": "2023-03-22T21:56:38.774147Z"
    },
    "papermill": {
     "duration": 1.545883,
     "end_time": "2023-03-22T21:56:38.777582",
     "exception": false,
     "start_time": "2023-03-22T21:56:37.231699",
     "status": "completed"
    },
    "tags": []
   },
   "outputs": [
    {
     "data": {
      "image/png": "[encoded data removed]",
      "text/plain": [
       "<Figure size 1000x400 with 2 Axes>"
      ]
     },
     "metadata": {},
     "output_type": "display_data"
    },
    {
     "data": {
      "image/png": "[encoded data removed]",
      "text/plain": [
       "<Figure size 1000x400 with 2 Axes>"
      ]
     },
     "metadata": {},
     "output_type": "display_data"
    }
   ],
   "source": [
    "wav_data, sr = load(os.path.join(train_folder, random.choice(os.listdir(train_folder))), sr=sample_rate)\n",
    "mel_spec = melspectrogram(y=wav_data, n_fft=fft_size, hop_length=hop, n_mels=mels, \n",
    "                          fmax=sample_rate//2)\n",
    "\n",
    "plt.figure(figsize=(10, 4))\n",
    "colors = 'viridis'\n",
    "specshow(mel_spec, y_axis='mel', fmax=sample_rate//2, x_axis='time', cmap=colors)\n",
    "plt.colorbar(format='%+2.0f дБ')\n",
    "plt.title('Мелспектрограмма')\n",
    "plt.tight_layout()\n",
    "plt.show()\n",
    "\n",
    "plt.figure(figsize=(10, 4))\n",
    "specshow(power_to_db(mel_spec, ref=np.max), y_axis='mel',\n",
    "         fmax=sample_rate//2, x_axis='time', cmap=colors)\n",
    "plt.colorbar(format='%+2.0f дБ')\n",
    "plt.title('Логарифм мелспектрограммы')\n",
    "plt.tight_layout()\n",
    "plt.show()"
   ]
  },
  {
   "cell_type": "code",
   "execution_count": 6,
   "id": "8ad5fc57",
   "metadata": {
    "execution": {
     "iopub.execute_input": "2023-03-22T21:56:38.791836Z",
     "iopub.status.busy": "2023-03-22T21:56:38.791504Z",
     "iopub.status.idle": "2023-03-22T21:59:42.553935Z",
     "shell.execute_reply": "2023-03-22T21:59:42.552896Z"
    },
    "papermill": {
     "duration": 183.772391,
     "end_time": "2023-03-22T21:59:42.556479",
     "exception": false,
     "start_time": "2023-03-22T21:56:38.784088",
     "status": "completed"
    },
    "tags": []
   },
   "outputs": [
    {
     "name": "stdout",
     "output_type": "stream",
     "text": [
      "Total files: 5683\n"
     ]
    },
    {
     "name": "stderr",
     "output_type": "stream",
     "text": [
      "5683it [03:02, 31.06it/s]\n"
     ]
    }
   ],
   "source": [
    "# path_to_csv = os.path.join('./data', 'train.csv')\n",
    "\n",
    "path_to_csv = PATH + 'train.csv'\n",
    "\n",
    "pickle_train_path = os.path.join('train.pickle')\n",
    "# pickle_test_path = os.path.join('./data', 'test.pickle')\n",
    "\n",
    "label_to_id = extract_log_mel_feats('train', path_to_csv, train_folder, pickle_train_path, sample_rate, fft_size, hop, mels)\n",
    "id_to_label = [label for label, i in label_to_id.items()]\n",
    "\n",
    "# extract_log_mel_feats('test', '', test_folder, pickle_test_path, sample_rate, fft_size, hop, mels)"
   ]
  },
  {
   "cell_type": "code",
   "execution_count": 7,
   "id": "eabb3629",
   "metadata": {
    "execution": {
     "iopub.execute_input": "2023-03-22T21:59:42.701361Z",
     "iopub.status.busy": "2023-03-22T21:59:42.700356Z",
     "iopub.status.idle": "2023-03-22T21:59:45.375604Z",
     "shell.execute_reply": "2023-03-22T21:59:45.374553Z"
    },
    "papermill": {
     "duration": 2.750216,
     "end_time": "2023-03-22T21:59:45.378178",
     "exception": false,
     "start_time": "2023-03-22T21:59:42.627962",
     "status": "completed"
    },
    "tags": []
   },
   "outputs": [],
   "source": [
    "import numpy as np\n",
    "import pandas as pd\n",
    "import soundfile as sf\n",
    "import torch.nn.functional as F\n",
    "import torch.nn as nn\n",
    "import torch\n",
    "\n",
    "\n",
    "class DummyNetwork(nn.Module):\n",
    "    def __init__(self, device = None):\n",
    "        super(DummyNetwork, self).__init__()\n",
    "        \n",
    "        self.conv1 = nn.Conv2d(in_channels=1, out_channels=64, kernel_size=5, stride=(2, 2), device=device)\n",
    "        self.conv2 = nn.Conv2d(in_channels=64, out_channels=96, kernel_size=3, stride=(1, 1), device=device)\n",
    "        self.conv3 = nn.Conv2d(in_channels=96, out_channels=64, kernel_size=3, stride=(1, 1), device=device)\n",
    "        \n",
    "        self.mp = nn.MaxPool2d(kernel_size=(2, 2), stride=(1, 1))\n",
    "        \n",
    "        self.dropout1 = nn.Dropout(p=0.3)\n",
    "        self.dropout2 = nn.Dropout(p=0.3)\n",
    "        self.dropout3 = nn.Dropout(p=0.3)\n",
    "        \n",
    "        self.bn1 = nn.BatchNorm2d(num_features=64, device=device)\n",
    "        self.bn2 = nn.BatchNorm2d(num_features=96, device=device)\n",
    "        self.bn3 = nn.BatchNorm2d(num_features=64, device=device)\n",
    "        \n",
    "        self.flat = nn.Flatten()\n",
    "        \n",
    "        # 33856 - должно соответствовать форме self.flat\n",
    "        self.fc1 = nn.Linear(33856, 41, device=device)\n",
    "\n",
    "    def forward(self, x):\n",
    "        x = self.conv1(x)\n",
    "        x = self.bn1(x)\n",
    "        x = F.relu(x)\n",
    "        x = self.mp(x)\n",
    "        x = self.dropout1(x)\n",
    "        \n",
    "        x = self.conv2(x)\n",
    "        x = self.bn2(x)\n",
    "        x = F.relu(x)\n",
    "        x = self.mp(x)\n",
    "        x = self.dropout2(x)\n",
    "        \n",
    "        x = self.conv3(x)\n",
    "        x = self.bn3(x)\n",
    "        x = F.relu(x)\n",
    "        x = self.mp(x)\n",
    "        x = self.dropout3(x)\n",
    "        \n",
    "        x = self.flat(x)\n",
    "        # здесь можно еще добавить полносвязных слой или слои\n",
    "        x = self.fc1(x)\n",
    "        return x\n"
   ]
  },
  {
   "cell_type": "code",
   "execution_count": 8,
   "id": "c72f2c1d",
   "metadata": {
    "execution": {
     "iopub.execute_input": "2023-03-22T21:59:45.523438Z",
     "iopub.status.busy": "2023-03-22T21:59:45.522881Z",
     "iopub.status.idle": "2023-03-22T21:59:45.595973Z",
     "shell.execute_reply": "2023-03-22T21:59:45.595027Z"
    },
    "papermill": {
     "duration": 0.148369,
     "end_time": "2023-03-22T21:59:45.598061",
     "exception": false,
     "start_time": "2023-03-22T21:59:45.449692",
     "status": "completed"
    },
    "tags": []
   },
   "outputs": [
    {
     "data": {
      "text/plain": [
       "'cuda'"
      ]
     },
     "execution_count": 8,
     "metadata": {},
     "output_type": "execute_result"
    }
   ],
   "source": [
    "device = device = \"cuda\" if torch.cuda.is_available() else \"cpu\"\n",
    "device"
   ]
  },
  {
   "cell_type": "code",
   "execution_count": 9,
   "id": "d14640d1",
   "metadata": {
    "execution": {
     "iopub.execute_input": "2023-03-22T21:59:45.743469Z",
     "iopub.status.busy": "2023-03-22T21:59:45.742479Z",
     "iopub.status.idle": "2023-03-22T21:59:45.751217Z",
     "shell.execute_reply": "2023-03-22T21:59:45.750314Z"
    },
    "papermill": {
     "duration": 0.083514,
     "end_time": "2023-03-22T21:59:45.753351",
     "exception": false,
     "start_time": "2023-03-22T21:59:45.669837",
     "status": "completed"
    },
    "tags": []
   },
   "outputs": [
    {
     "data": {
      "text/plain": [
       "(0, 2)"
      ]
     },
     "execution_count": 9,
     "metadata": {},
     "output_type": "execute_result"
    }
   ],
   "source": [
    "cpu_count = os.cpu_count()\n",
    "\n",
    "num_workers = cpu_count if device == \"cpu\" else 0\n",
    "num_workers, cpu_count"
   ]
  },
  {
   "cell_type": "code",
   "execution_count": 10,
   "id": "dc665dec",
   "metadata": {
    "execution": {
     "iopub.execute_input": "2023-03-22T21:59:45.899136Z",
     "iopub.status.busy": "2023-03-22T21:59:45.898111Z",
     "iopub.status.idle": "2023-03-22T21:59:45.904980Z",
     "shell.execute_reply": "2023-03-22T21:59:45.903926Z"
    },
    "papermill": {
     "duration": 0.082106,
     "end_time": "2023-03-22T21:59:45.907112",
     "exception": false,
     "start_time": "2023-03-22T21:59:45.825006",
     "status": "completed"
    },
    "tags": []
   },
   "outputs": [],
   "source": [
    "def set_random_state(random_state = 0):\n",
    "    \"\"\"Initialize random generators.\n",
    "\n",
    "    Parameters\n",
    "    ==========\n",
    "    random_state : int = 0\n",
    "        Determines random number generation for centroid initialization.\n",
    "        Use an int to make the randomness deterministic.\n",
    "    \"\"\"\n",
    "    torch.manual_seed(random_state)\n",
    "    random.seed(random_state)\n",
    "    np.random.seed(random_state)\n",
    "\n",
    "    if torch.cuda.is_available():\n",
    "        torch.cuda.manual_seed_all(random_state)\n",
    "        torch.cuda.manual_seed(random_state)\n",
    "\n",
    "        torch.backends.cudnn.deterministic = True\n",
    "        torch.backends.cudnn.benchmark = False"
   ]
  },
  {
   "cell_type": "code",
   "execution_count": 11,
   "id": "67b1e4a1",
   "metadata": {
    "execution": {
     "iopub.execute_input": "2023-03-22T21:59:46.050695Z",
     "iopub.status.busy": "2023-03-22T21:59:46.050302Z",
     "iopub.status.idle": "2023-03-22T21:59:53.849456Z",
     "shell.execute_reply": "2023-03-22T21:59:53.848249Z"
    },
    "papermill": {
     "duration": 7.873898,
     "end_time": "2023-03-22T21:59:53.851827",
     "exception": false,
     "start_time": "2023-03-22T21:59:45.977929",
     "status": "completed"
    },
    "tags": []
   },
   "outputs": [
    {
     "name": "stdout",
     "output_type": "stream",
     "text": [
      "env: CUBLAS_WORKSPACE_CONFIG=:4096:8\n",
      "env: PYTHONHASHSEED=42\n",
      "tensor([[-2.0144e-01, -2.1711e-01,  6.8479e-01, -1.2975e-03,  7.8605e-01,\n",
      "         -2.4199e-01,  3.5977e-01,  1.1469e+00, -9.1528e-01, -5.6117e-01,\n",
      "         -3.7027e-01, -3.6648e-01,  1.7319e+00,  5.1950e-01, -3.5113e-01,\n",
      "          7.2721e-02, -2.9235e-02, -1.2073e-01, -2.9459e-01,  3.2928e-01,\n",
      "         -9.3407e-03,  5.4718e-01,  3.7316e-02,  5.7438e-01, -4.5652e-01,\n",
      "          4.6992e-01, -6.3313e-01,  1.4175e+00, -1.3361e+00,  1.6777e-01,\n",
      "         -9.6763e-01,  5.8675e-02, -3.2045e-01,  7.4528e-01,  6.9956e-01,\n",
      "          9.5195e-02,  2.8379e-01, -4.7728e-01,  6.6330e-01, -6.6214e-01,\n",
      "          3.1636e-01]], device='cuda:0', grad_fn=<AddmmBackward0>)\n"
     ]
    }
   ],
   "source": [
    "random_state = 42\n",
    "\n",
    "set_random_state(random_state)\n",
    "\n",
    "torch.use_deterministic_algorithms(True)\n",
    "\n",
    "%env CUBLAS_WORKSPACE_CONFIG=:4096:8\n",
    "%env PYTHONHASHSEED=42\n",
    "\n",
    "random_input = torch.randn(1, 1, 64, 64, requires_grad=True, device=device)\n",
    "network = DummyNetwork(device=device)\n",
    "output = network(random_input)\n",
    "print(output)"
   ]
  },
  {
   "cell_type": "code",
   "execution_count": 12,
   "id": "513fa6f7",
   "metadata": {
    "execution": {
     "iopub.execute_input": "2023-03-22T21:59:53.997227Z",
     "iopub.status.busy": "2023-03-22T21:59:53.996859Z",
     "iopub.status.idle": "2023-03-22T21:59:54.600975Z",
     "shell.execute_reply": "2023-03-22T21:59:54.599892Z"
    },
    "papermill": {
     "duration": 0.67962,
     "end_time": "2023-03-22T21:59:54.603658",
     "exception": false,
     "start_time": "2023-03-22T21:59:53.924038",
     "status": "completed"
    },
    "tags": []
   },
   "outputs": [
    {
     "name": "stdout",
     "output_type": "stream",
     "text": [
      "4.4389328956604\n"
     ]
    }
   ],
   "source": [
    "import torch.optim as optim\n",
    "\n",
    "\n",
    "criterion = nn.CrossEntropyLoss()\n",
    "\n",
    "optimizer = optim.SGD(network.parameters(), lr=0.001)\n",
    "optimizer.zero_grad()\n",
    "\n",
    "random_input = torch.randn(3, 1, 64, 64, requires_grad=True, device=device)\n",
    "\n",
    "output = network(random_input)\n",
    "target = torch.empty(3, dtype=torch.long, device=device).random_(5)\n",
    "\n",
    "loss = criterion(output, target)\n",
    "\n",
    "print(loss.item())\n",
    "\n",
    "loss.backward()\n",
    "optimizer.step() "
   ]
  },
  {
   "cell_type": "code",
   "execution_count": 13,
   "id": "8e8096be",
   "metadata": {
    "execution": {
     "iopub.execute_input": "2023-03-22T21:59:54.748068Z",
     "iopub.status.busy": "2023-03-22T21:59:54.747047Z",
     "iopub.status.idle": "2023-03-22T21:59:55.098070Z",
     "shell.execute_reply": "2023-03-22T21:59:55.097015Z"
    },
    "papermill": {
     "duration": 0.426034,
     "end_time": "2023-03-22T21:59:55.100726",
     "exception": false,
     "start_time": "2023-03-22T21:59:54.674692",
     "status": "completed"
    },
    "tags": []
   },
   "outputs": [],
   "source": [
    "import pickle\n",
    "\n",
    "pickle_train_data = pickle.load(open(pickle_train_path, 'rb'))"
   ]
  },
  {
   "cell_type": "code",
   "execution_count": 14,
   "id": "4a7532f7",
   "metadata": {
    "execution": {
     "iopub.execute_input": "2023-03-22T21:59:55.288341Z",
     "iopub.status.busy": "2023-03-22T21:59:55.287863Z",
     "iopub.status.idle": "2023-03-22T21:59:55.295781Z",
     "shell.execute_reply": "2023-03-22T21:59:55.294701Z"
    },
    "papermill": {
     "duration": 0.12559,
     "end_time": "2023-03-22T21:59:55.298032",
     "exception": false,
     "start_time": "2023-03-22T21:59:55.172442",
     "status": "completed"
    },
    "tags": []
   },
   "outputs": [],
   "source": [
    "def prepare_shape(feature):\n",
    "    tmp = feature\n",
    "    N = 64 # размер во времени (можно увеличить, должно стать лучше)\n",
    "    while tmp.shape[1] < N:\n",
    "        # можно попробовать сделать np.pad для коротких файлов, вместо повторения до необходимой длины\n",
    "        tmp = np.hstack((tmp, tmp))\n",
    "    # случайный сдвиг должен улучшить результат (для этого нужно функцию перенести в EventDetectionDataset)\n",
    "    tmp = tmp[np.newaxis, :, :N]\n",
    "    return tmp"
   ]
  },
  {
   "cell_type": "code",
   "execution_count": 15,
   "id": "3daee358",
   "metadata": {
    "execution": {
     "iopub.execute_input": "2023-03-22T21:59:55.530457Z",
     "iopub.status.busy": "2023-03-22T21:59:55.530024Z",
     "iopub.status.idle": "2023-03-22T21:59:55.642534Z",
     "shell.execute_reply": "2023-03-22T21:59:55.641018Z"
    },
    "papermill": {
     "duration": 0.22235,
     "end_time": "2023-03-22T21:59:55.645173",
     "exception": false,
     "start_time": "2023-03-22T21:59:55.422823",
     "status": "completed"
    },
    "tags": []
   },
   "outputs": [],
   "source": [
    "# можно улучшить, используя сбалансированное валидационное множество\n",
    "# гуглить stratified train test split sklearn\n",
    "validation_set_size = 800\n",
    "\n",
    "x_val = []\n",
    "y_val = []\n",
    "\n",
    "x_tr = []\n",
    "y_tr = []\n",
    "\n",
    "for i, row in enumerate(pickle_train_data):\n",
    "    feature = prepare_shape(row['feature'])\n",
    "    if i < validation_set_size:\n",
    "        x_val.append(feature)\n",
    "        y_val.append(row['label_id'])\n",
    "    else:\n",
    "        x_tr.append(feature)\n",
    "        y_tr.append(row['label_id'])\n",
    "x_val = np.asarray(x_val)\n",
    "x_tr = np.asarray(x_tr)\n",
    "\n",
    "y_val = np.asarray(y_val)\n",
    "y_tr = np.asarray(y_tr)"
   ]
  },
  {
   "cell_type": "code",
   "execution_count": 16,
   "id": "0e2552e2",
   "metadata": {
    "execution": {
     "iopub.execute_input": "2023-03-22T21:59:55.848531Z",
     "iopub.status.busy": "2023-03-22T21:59:55.847446Z",
     "iopub.status.idle": "2023-03-22T21:59:55.854890Z",
     "shell.execute_reply": "2023-03-22T21:59:55.853943Z"
    },
    "papermill": {
     "duration": 0.102181,
     "end_time": "2023-03-22T21:59:55.857021",
     "exception": false,
     "start_time": "2023-03-22T21:59:55.754840",
     "status": "completed"
    },
    "tags": []
   },
   "outputs": [],
   "source": [
    "from torch.utils.data import Dataset\n",
    "\n",
    "\n",
    "class EventDetectionDataset(Dataset):\n",
    "    def __init__(self, x, y=None, device=None):\n",
    "        self.x = x\n",
    "        self.y = y\n",
    "\n",
    "        self.device = device\n",
    "    \n",
    "    def __len__(self):\n",
    "        return len(self.x)\n",
    "\n",
    "    def __getitem__(self, idx):\n",
    "        # добавить сюда prepare_shape()\n",
    "        if self.y is not None:\n",
    "            return torch.tensor(self.x[idx], device=self.device), torch.tensor(self.y[idx], device=self.device)\n",
    "        return torch.tensor(self.x[idx], device=self.device)"
   ]
  },
  {
   "cell_type": "code",
   "execution_count": 17,
   "id": "2b925263",
   "metadata": {
    "execution": {
     "iopub.execute_input": "2023-03-22T21:59:56.002769Z",
     "iopub.status.busy": "2023-03-22T21:59:56.001709Z",
     "iopub.status.idle": "2023-03-22T21:59:56.007139Z",
     "shell.execute_reply": "2023-03-22T21:59:56.006213Z"
    },
    "papermill": {
     "duration": 0.08059,
     "end_time": "2023-03-22T21:59:56.009220",
     "exception": false,
     "start_time": "2023-03-22T21:59:55.928630",
     "status": "completed"
    },
    "tags": []
   },
   "outputs": [],
   "source": [
    "train_dset = EventDetectionDataset(x_tr, y_tr, device)\n",
    "val_dset = EventDetectionDataset(x_val, y_val, device)"
   ]
  },
  {
   "cell_type": "code",
   "execution_count": 18,
   "id": "4eb01afb",
   "metadata": {
    "execution": {
     "iopub.execute_input": "2023-03-22T21:59:56.219224Z",
     "iopub.status.busy": "2023-03-22T21:59:56.218213Z",
     "iopub.status.idle": "2023-03-22T21:59:56.226581Z",
     "shell.execute_reply": "2023-03-22T21:59:56.225504Z"
    },
    "papermill": {
     "duration": 0.083023,
     "end_time": "2023-03-22T21:59:56.228679",
     "exception": false,
     "start_time": "2023-03-22T21:59:56.145656",
     "status": "completed"
    },
    "tags": []
   },
   "outputs": [
    {
     "data": {
      "text/plain": [
       "(10, 'Cough')"
      ]
     },
     "execution_count": 18,
     "metadata": {},
     "output_type": "execute_result"
    }
   ],
   "source": [
    "sample_x, sample_y = random.choice(val_dset)\n",
    "\n",
    "sample_y.item(), id_to_label[sample_y]"
   ]
  },
  {
   "cell_type": "code",
   "execution_count": 19,
   "id": "0e6b731b",
   "metadata": {
    "execution": {
     "iopub.execute_input": "2023-03-22T21:59:56.373222Z",
     "iopub.status.busy": "2023-03-22T21:59:56.372881Z",
     "iopub.status.idle": "2023-03-22T21:59:56.679117Z",
     "shell.execute_reply": "2023-03-22T21:59:56.678036Z"
    },
    "papermill": {
     "duration": 0.38176,
     "end_time": "2023-03-22T21:59:56.681708",
     "exception": false,
     "start_time": "2023-03-22T21:59:56.299948",
     "status": "completed"
    },
    "tags": []
   },
   "outputs": [
    {
     "data": {
      "image/png": "[encoded data removed]",
      "text/plain": [
       "<Figure size 1000x400 with 2 Axes>"
      ]
     },
     "metadata": {},
     "output_type": "display_data"
    }
   ],
   "source": [
    "fig, ax = plt.subplots(1, 1, figsize=(10, 4))\n",
    "cmap = \"viridis\"\n",
    "\n",
    "img = librosa.display.specshow(\n",
    "    sample_x[0].numpy(force=True),\n",
    "    sr=sample_rate,\n",
    "    fmax=sample_rate // 2,\n",
    "    ax=ax,\n",
    "    x_axis='time',\n",
    "    y_axis='mel',\n",
    "    cmap=cmap,\n",
    ")\n",
    "ax.set(title='Мелспектрограмма')\n",
    "ax.label_outer()\n",
    "\n",
    "fig.colorbar(img, ax=ax, format=\"%+2.f dB\")\n",
    "plt.tight_layout()\n",
    "plt.show()"
   ]
  },
  {
   "cell_type": "code",
   "execution_count": 20,
   "id": "a911b0b9",
   "metadata": {
    "execution": {
     "iopub.execute_input": "2023-03-22T21:59:56.829096Z",
     "iopub.status.busy": "2023-03-22T21:59:56.828730Z",
     "iopub.status.idle": "2023-03-22T21:59:56.834426Z",
     "shell.execute_reply": "2023-03-22T21:59:56.833366Z"
    },
    "papermill": {
     "duration": 0.081875,
     "end_time": "2023-03-22T21:59:56.836621",
     "exception": false,
     "start_time": "2023-03-22T21:59:56.754746",
     "status": "completed"
    },
    "tags": []
   },
   "outputs": [],
   "source": [
    "from torch.utils.data import DataLoader\n",
    "\n",
    "train_loader = DataLoader(train_dset, batch_size=41, shuffle=True, num_workers=num_workers)\n",
    "val_loader = DataLoader(val_dset, batch_size=41, shuffle=False, num_workers=num_workers)"
   ]
  },
  {
   "cell_type": "code",
   "execution_count": 21,
   "id": "3c92e378",
   "metadata": {
    "execution": {
     "iopub.execute_input": "2023-03-22T21:59:56.982544Z",
     "iopub.status.busy": "2023-03-22T21:59:56.982164Z",
     "iopub.status.idle": "2023-03-22T21:59:57.116519Z",
     "shell.execute_reply": "2023-03-22T21:59:57.115519Z"
    },
    "papermill": {
     "duration": 0.210314,
     "end_time": "2023-03-22T21:59:57.118939",
     "exception": false,
     "start_time": "2023-03-22T21:59:56.908625",
     "status": "completed"
    },
    "tags": []
   },
   "outputs": [],
   "source": [
    "from sklearn.metrics import accuracy_score"
   ]
  },
  {
   "cell_type": "code",
   "execution_count": 22,
   "id": "ea9e0ab7",
   "metadata": {
    "execution": {
     "iopub.execute_input": "2023-03-22T21:59:57.265965Z",
     "iopub.status.busy": "2023-03-22T21:59:57.265607Z",
     "iopub.status.idle": "2023-03-22T22:01:04.688023Z",
     "shell.execute_reply": "2023-03-22T22:01:04.685989Z"
    },
    "papermill": {
     "duration": 67.498562,
     "end_time": "2023-03-22T22:01:04.690350",
     "exception": false,
     "start_time": "2023-03-22T21:59:57.191788",
     "status": "completed"
    },
    "tags": []
   },
   "outputs": [
    {
     "name": "stdout",
     "output_type": "stream",
     "text": [
      "epoch # 0\n",
      "mean train loss: 3.464339246352514\n",
      "train accuracy: 0.1255375793569527\n",
      "mean val loss: 5.767963433265686\n",
      "val accuracy: 0.07375\n",
      "epoch # 1\n",
      "mean train loss: 2.9174938082695006\n",
      "train accuracy: 0.2199467540446447\n",
      "mean val loss: 4.424973034858704\n",
      "val accuracy: 0.12125\n",
      "epoch # 2\n",
      "mean train loss: 2.6517832477887473\n",
      "train accuracy: 0.27585500716772476\n",
      "mean val loss: 6.808448934555054\n",
      "val accuracy: 0.04125\n",
      "epoch # 3\n",
      "mean train loss: 2.5276278495788573\n",
      "train accuracy: 0.320499692811796\n",
      "mean val loss: 4.196096277236938\n",
      "val accuracy: 0.11375\n",
      "epoch # 4\n",
      "mean train loss: 2.382522848248482\n",
      "train accuracy: 0.3428220356338317\n",
      "mean val loss: 3.8830851793289183\n",
      "val accuracy: 0.155\n",
      "epoch # 5\n",
      "mean train loss: 2.261935235063235\n",
      "train accuracy: 0.3817325414704075\n",
      "mean val loss: 4.2677826404571535\n",
      "val accuracy: 0.12375\n",
      "epoch # 6\n",
      "mean train loss: 2.166132860382398\n",
      "train accuracy: 0.4028261314765513\n",
      "mean val loss: 3.1629598498344422\n",
      "val accuracy: 0.20875\n",
      "epoch # 7\n",
      "mean train loss: 2.095519193013509\n",
      "train accuracy: 0.4253532664345689\n",
      "mean val loss: 3.5389832854270935\n",
      "val accuracy: 0.2025\n",
      "epoch # 8\n",
      "mean train loss: 2.0603823949893316\n",
      "train accuracy: 0.4310874462420643\n",
      "mean val loss: 3.1270971059799195\n",
      "val accuracy: 0.22875\n",
      "epoch # 9\n",
      "mean train loss: 1.98039866288503\n",
      "train accuracy: 0.45033790702437027\n",
      "mean val loss: 3.0020508408546447\n",
      "val accuracy: 0.22125\n",
      "epoch # 10\n",
      "mean train loss: 1.9113007992506028\n",
      "train accuracy: 0.4738890026622978\n",
      "mean val loss: 2.7653910994529722\n",
      "val accuracy: 0.26375\n",
      "epoch # 11\n",
      "mean train loss: 1.8760789076487223\n",
      "train accuracy: 0.49006758140487405\n",
      "mean val loss: 2.934556257724762\n",
      "val accuracy: 0.255\n",
      "epoch # 12\n",
      "mean train loss: 1.8191210508346558\n",
      "train accuracy: 0.4915011263567479\n",
      "mean val loss: 2.88471599817276\n",
      "val accuracy: 0.285\n",
      "epoch # 13\n",
      "mean train loss: 1.770301838715871\n",
      "train accuracy: 0.5080892893712882\n",
      "mean val loss: 2.943544316291809\n",
      "val accuracy: 0.27625\n",
      "epoch # 14\n",
      "mean train loss: 1.7316645135482152\n",
      "train accuracy: 0.5252918287937743\n",
      "mean val loss: 2.7551499962806703\n",
      "val accuracy: 0.29375\n",
      "epoch # 15\n",
      "mean train loss: 1.6820556332667669\n",
      "train accuracy: 0.5357362277288552\n",
      "mean val loss: 2.9237632393836974\n",
      "val accuracy: 0.29375\n",
      "epoch # 16\n",
      "mean train loss: 1.6568335791428883\n",
      "train accuracy: 0.5455662502559901\n",
      "mean val loss: 3.0145210146903993\n",
      "val accuracy: 0.31125\n",
      "epoch # 17\n",
      "mean train loss: 1.6315070847670237\n",
      "train accuracy: 0.5500716772475936\n",
      "mean val loss: 3.618171143531799\n",
      "val accuracy: 0.18125\n",
      "epoch # 18\n",
      "mean train loss: 1.5974359405537446\n",
      "train accuracy: 0.5502764693835757\n",
      "mean val loss: 2.0429792165756226\n",
      "val accuracy: 0.42125\n",
      "epoch # 19\n",
      "mean train loss: 1.5224133004744849\n",
      "train accuracy: 0.5789473684210527\n",
      "mean val loss: 2.1222139418125154\n",
      "val accuracy: 0.41125\n",
      "epoch # 20\n",
      "mean train loss: 1.5140526369214058\n",
      "train accuracy: 0.5738275650215032\n",
      "mean val loss: 2.1801604509353636\n",
      "val accuracy: 0.39375\n",
      "epoch # 21\n",
      "mean train loss: 1.4830925385157268\n",
      "train accuracy: 0.5932828179397911\n",
      "mean val loss: 2.7966431736946107\n",
      "val accuracy: 0.3075\n",
      "epoch # 22\n",
      "mean train loss: 1.4507232204079628\n",
      "train accuracy: 0.5963546999795208\n",
      "mean val loss: 2.5809020161628724\n",
      "val accuracy: 0.33375\n",
      "epoch # 23\n",
      "mean train loss: 1.4154406880338988\n",
      "train accuracy: 0.6100757730903134\n",
      "mean val loss: 2.8522206783294677\n",
      "val accuracy: 0.32625\n",
      "epoch # 24\n",
      "mean train loss: 1.3963995918631553\n",
      "train accuracy: 0.6049559696907639\n",
      "mean val loss: 2.1281358301639557\n",
      "val accuracy: 0.41875\n",
      "epoch # 25\n",
      "mean train loss: 1.3565465668837229\n",
      "train accuracy: 0.6194962113454844\n",
      "mean val loss: 2.2307954251766207\n",
      "val accuracy: 0.3925\n",
      "epoch # 26\n",
      "mean train loss: 1.3343651781479517\n",
      "train accuracy: 0.6342412451361867\n",
      "mean val loss: 2.0007433950901032\n",
      "val accuracy: 0.42875\n",
      "epoch # 27\n",
      "mean train loss: 1.3125313992301624\n",
      "train accuracy: 0.6358795822240426\n",
      "mean val loss: 2.269320821762085\n",
      "val accuracy: 0.39875\n",
      "epoch # 28\n",
      "mean train loss: 1.3113210638364157\n",
      "train accuracy: 0.6354699979520786\n",
      "mean val loss: 2.539847952127457\n",
      "val accuracy: 0.3575\n",
      "epoch # 29\n",
      "mean train loss: 1.2770986706018448\n",
      "train accuracy: 0.6373131271759165\n",
      "mean val loss: 2.2424674153327944\n",
      "val accuracy: 0.40625\n",
      "epoch # 30\n",
      "mean train loss: 1.264250865081946\n",
      "train accuracy: 0.6442760597993037\n",
      "mean val loss: 3.898639452457428\n",
      "val accuracy: 0.2425\n",
      "epoch # 31\n",
      "mean train loss: 1.2745770956079165\n",
      "train accuracy: 0.6530821216465288\n",
      "mean val loss: 2.9600046396255495\n",
      "val accuracy: 0.28375\n",
      "epoch # 32\n",
      "mean train loss: 1.2275347014268239\n",
      "train accuracy: 0.6522629531026009\n",
      "mean val loss: 2.0358664274215696\n",
      "val accuracy: 0.44625\n",
      "epoch # 33\n",
      "mean train loss: 1.188138469060262\n",
      "train accuracy: 0.6688511161171411\n",
      "mean val loss: 2.5659346282482147\n",
      "val accuracy: 0.38375\n",
      "epoch # 34\n",
      "mean train loss: 1.178813774883747\n",
      "train accuracy: 0.6731517509727627\n",
      "mean val loss: 2.7525012493133545\n",
      "val accuracy: 0.335\n",
      "epoch # 35\n",
      "mean train loss: 1.158485701183478\n",
      "train accuracy: 0.6827769813639156\n",
      "mean val loss: 2.818845582008362\n",
      "val accuracy: 0.31375\n",
      "epoch # 36\n",
      "mean train loss: 1.1269907837112745\n",
      "train accuracy: 0.6948597173868524\n",
      "mean val loss: 2.3298962831497194\n",
      "val accuracy: 0.4\n",
      "epoch # 37\n",
      "mean train loss: 1.1050050611297288\n",
      "train accuracy: 0.6952693016588163\n",
      "mean val loss: 2.135739988088608\n",
      "val accuracy: 0.4325\n",
      "epoch # 38\n",
      "mean train loss: 1.0817345544695853\n",
      "train accuracy: 0.7012082736022937\n",
      "mean val loss: 2.7510924220085142\n",
      "val accuracy: 0.33875\n",
      "epoch # 39\n",
      "mean train loss: 1.071191709736983\n",
      "train accuracy: 0.6999795207864018\n",
      "mean val loss: 2.0852072536945343\n",
      "val accuracy: 0.4375\n",
      "epoch # 40\n",
      "mean train loss: 1.0462539131442705\n",
      "train accuracy: 0.7159533073929961\n",
      "mean val loss: 2.4101507306098937\n",
      "val accuracy: 0.38875\n",
      "epoch # 41\n",
      "mean train loss: 1.0442261457443238\n",
      "train accuracy: 0.7116526725373745\n",
      "mean val loss: 2.2974791169166564\n",
      "val accuracy: 0.41\n",
      "epoch # 42\n",
      "mean train loss: 1.0184326171875\n",
      "train accuracy: 0.707761621953717\n",
      "mean val loss: 2.1462355971336367\n",
      "val accuracy: 0.44875\n",
      "epoch # 43\n",
      "mean train loss: 1.0176273256540298\n",
      "train accuracy: 0.7182060208887979\n",
      "mean val loss: 2.475212001800537\n",
      "val accuracy: 0.38875\n",
      "epoch # 44\n",
      "mean train loss: 1.0101037109891573\n",
      "train accuracy: 0.7180012287528159\n",
      "mean val loss: 2.5640758752822874\n",
      "val accuracy: 0.36125\n",
      "epoch # 45\n",
      "mean train loss: 0.994558464984099\n",
      "train accuracy: 0.7270120827360229\n",
      "mean val loss: 2.412145972251892\n",
      "val accuracy: 0.405\n",
      "epoch # 46\n",
      "mean train loss: 0.9662741929292679\n",
      "train accuracy: 0.7311079254556625\n",
      "mean val loss: 2.2983433663845063\n",
      "val accuracy: 0.42625\n",
      "epoch # 47\n",
      "mean train loss: 0.95553061713775\n",
      "train accuracy: 0.7339750153594102\n",
      "mean val loss: 1.9458403170108796\n",
      "val accuracy: 0.48375\n",
      "epoch # 48\n",
      "mean train loss: 0.9242376878857612\n",
      "train accuracy: 0.7464673356543109\n",
      "mean val loss: 2.079637736082077\n",
      "val accuracy: 0.43625\n",
      "epoch # 49\n",
      "mean train loss: 0.929477413992087\n",
      "train accuracy: 0.7468769199262748\n",
      "mean val loss: 2.5054007887840273\n",
      "val accuracy: 0.38375\n"
     ]
    }
   ],
   "source": [
    "n_epoch = 50\n",
    "criterion = nn.CrossEntropyLoss()\n",
    "network = DummyNetwork(device=device)\n",
    "# можно попробовать другой optimizer, тоже считается улучшением\n",
    "optimizer = optim.SGD(network.parameters(), lr=0.001)\n",
    "\n",
    "train_loss = []\n",
    "val_loss = []\n",
    "\n",
    "train_acc = []\n",
    "val_acc = []\n",
    "\n",
    "for e in range(n_epoch):\n",
    "    print('epoch #', e)\n",
    "    # train\n",
    "    loss_list = []\n",
    "    outputs = []\n",
    "    targets = []\n",
    "    for i_batch, sample_batched in enumerate(train_loader):\n",
    "        x, y = sample_batched\n",
    "        optimizer.zero_grad()\n",
    "\n",
    "        output = network(x)\n",
    "        outputs.append(output.argmax(axis=1))\n",
    "    \n",
    "        target = y\n",
    "        targets.append(target)\n",
    "        \n",
    "        loss = criterion(output, target.long())\n",
    "        loss_list.append(loss.item())\n",
    "        loss.backward()\n",
    "        optimizer.step()\n",
    "    y_true = torch.hstack(targets).numpy(force=True)\n",
    "    y_pred = torch.hstack(outputs).numpy(force=True)\n",
    "    acc = accuracy_score(y_true, y_pred)\n",
    "    train_loss.append(np.mean(loss_list))\n",
    "    train_acc.append(acc)\n",
    "    print('mean train loss:', train_loss[-1])\n",
    "    print('train accuracy:', acc)\n",
    "    \n",
    "    \n",
    "    loss_list = []\n",
    "    outputs = []\n",
    "    targets = []\n",
    "    with torch.no_grad():\n",
    "        for i_batch, sample_batched in enumerate(val_loader):\n",
    "            x, y = sample_batched\n",
    "#             optimizer.zero_grad()\n",
    "\n",
    "            output = network(x)\n",
    "            outputs.append(output.argmax(axis=1))\n",
    "\n",
    "            target = y\n",
    "            targets.append(target)\n",
    "\n",
    "            loss = criterion(output, target.long())\n",
    "            loss_list.append(loss.item())\n",
    "#             loss.backward()\n",
    "#             optimizer.step()\n",
    "            \n",
    "        y_true = torch.hstack(targets).numpy(force=True)\n",
    "        y_pred = torch.hstack(outputs).numpy(force=True)\n",
    "        acc = accuracy_score(y_true, y_pred)\n",
    "        val_loss.append(np.mean(loss_list))\n",
    "        val_acc.append(acc)\n",
    "        print('mean val loss:', val_loss[-1])\n",
    "        print('val accuracy:', acc)"
   ]
  },
  {
   "cell_type": "code",
   "execution_count": 23,
   "id": "65497e8c",
   "metadata": {
    "execution": {
     "iopub.execute_input": "2023-03-22T22:01:04.841294Z",
     "iopub.status.busy": "2023-03-22T22:01:04.840947Z",
     "iopub.status.idle": "2023-03-22T22:01:05.263220Z",
     "shell.execute_reply": "2023-03-22T22:01:05.262195Z"
    },
    "papermill": {
     "duration": 0.500293,
     "end_time": "2023-03-22T22:01:05.265539",
     "exception": false,
     "start_time": "2023-03-22T22:01:04.765246",
     "status": "completed"
    },
    "tags": []
   },
   "outputs": [
    {
     "data": {
      "image/png": "[encoded data removed]",
      "text/plain": [
       "<Figure size 640x480 with 1 Axes>"
      ]
     },
     "metadata": {},
     "output_type": "display_data"
    },
    {
     "data": {
      "image/png": "[encoded data removed]",
      "text/plain": [
       "<Figure size 640x480 with 1 Axes>"
      ]
     },
     "metadata": {},
     "output_type": "display_data"
    }
   ],
   "source": [
    "epochs = np.arange(1, n_epoch+1)\n",
    "\n",
    "axes = plt.gca()\n",
    "axes.set_ylim([0,max(max(train_loss), max(val_loss))+1])\n",
    "plt.plot(epochs, train_loss, 'r', label='train')\n",
    "plt.plot(epochs, val_loss, 'b', label='val')\n",
    "plt.title('loss')\n",
    "plt.xlabel('epoch number')\n",
    "plt.ylabel('loss value')\n",
    "plt.legend()\n",
    "plt.grid()\n",
    "plt.show()\n",
    "\n",
    "\n",
    "axes = plt.gca()\n",
    "axes.set_ylim([0,1])\n",
    "plt.plot(epochs, train_acc, 'r', label='train')\n",
    "plt.plot(epochs, val_acc, 'b', label='val')\n",
    "plt.title('accuracy')\n",
    "plt.xlabel('epoch number')\n",
    "plt.ylabel('accuracy value')\n",
    "plt.legend()\n",
    "plt.grid()\n",
    "plt.show()"
   ]
  }
 ],
 "metadata": {
  "kernelspec": {
   "display_name": "Python 3",
   "language": "python",
   "name": "python3"
  },
  "language_info": {
   "codemirror_mode": {
    "name": "ipython",
    "version": 3
   },
   "file_extension": ".py",
   "mimetype": "text/x-python",
   "name": "python",
   "nbconvert_exporter": "python",
   "pygments_lexer": "ipython3",
   "version": "3.7.12"
  },
  "papermill": {
   "default_parameters": {},
   "duration": 289.037009,
   "end_time": "2023-03-22T22:01:07.268691",
   "environment_variables": {},
   "exception": null,
   "input_path": "__notebook__.ipynb",
   "output_path": "__notebook__.ipynb",
   "parameters": {},
   "start_time": "2023-03-22T21:56:18.231682",
   "version": "2.4.0"
  }
 },
 "nbformat": 4,
 "nbformat_minor": 5
}
